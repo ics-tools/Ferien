{
 "cells": [
  {
   "cell_type": "code",
   "execution_count": 1,
   "id": "3989da93-9dba-4998-9392-7590f8631e92",
   "metadata": {},
   "outputs": [],
   "source": [
    "from ics import Calendar, Event\n",
    "from ics.parse import ContentLine\n",
    "import os\n",
    "import re"
   ]
  },
  {
   "cell_type": "code",
   "execution_count": 2,
   "id": "231741ed-edc6-40a2-b016-f830d321e7ba",
   "metadata": {},
   "outputs": [],
   "source": [
    "input_dir = \"../yearly_ics/\"\n",
    "output_dir = \"../working/output_ics/\"\n",
    "\n",
    "if not os.path.isdir(output_dir):\n",
    "    os.mkdir(output_dir)"
   ]
  },
  {
   "cell_type": "code",
   "execution_count": 3,
   "id": "d9d4ea3c-a85a-49c9-9ae2-d935909ee26a",
   "metadata": {},
   "outputs": [],
   "source": [
    "def parse_filename(filename):\n",
    "    parts = filename.split(\"_\")\n",
    "    federal_state = parts[0]\n",
    "    year = parts[1].split(\".\")[0]\n",
    "    return federal_state, year"
   ]
  },
  {
   "cell_type": "code",
   "execution_count": 4,
   "id": "551891e8-0f9d-4674-b770-41f8f34c4b25",
   "metadata": {},
   "outputs": [],
   "source": [
    "def generate_empty_calender(name):\n",
    "    c = Calendar(creator=\"ics.tools Combinder v1.0\")\n",
    "    c.extra.append(ContentLine(name='NAME', value=name))\n",
    "    c.extra.append(ContentLine(name='X-WR-CALNAME', value=name))\n",
    "    c.extra.append(ContentLine(name='METHOD', value=\"PUBLISH\"))\n",
    "    return c"
   ]
  },
  {
   "cell_type": "code",
   "execution_count": 5,
   "id": "6dc17f8a-161c-4586-a091-94e3e5a3deb8",
   "metadata": {},
   "outputs": [],
   "source": [
    "states_map = {}\n",
    "\n",
    "files = os.listdir(input_dir)\n",
    "files.sort()\n",
    "\n",
    "for file in files:\n",
    "    if not file.endswith(\".ics\"):\n",
    "        continue\n",
    "    federal_state, year = parse_filename(file)\n",
    "    if not federal_state in states_map:\n",
    "        states_map[federal_state] = generate_empty_calender(re.sub(\"(^|[-])\\s*([a-zA-Z])\", lambda p: p.group(0).upper(), federal_state) + \" Schulferien\")\n",
    "    with open(input_dir + \"/\" + file, \"r\") as file1:\n",
    "        l = file1.read()\n",
    "    calendar = Calendar(l)\n",
    "    for event in calendar.events:\n",
    "        states_map[federal_state].events.add(event)"
   ]
  },
  {
   "cell_type": "code",
   "execution_count": 6,
   "id": "0574999d-437f-45b7-9f0b-119a00bde10d",
   "metadata": {},
   "outputs": [],
   "source": [
    "# write ics fiel for each federal state\n",
    "for federal_state in states_map:\n",
    "    with open(output_dir + \"/\" + federal_state + \".ics\", 'w') as file:\n",
    "        file.writelines(str(states_map[federal_state]))\n",
    "\n",
    "# write a ics file with all federal states\n",
    "c = generate_empty_calender(\"Schulferien deutschlandweit\")\n",
    "for federal_state in states_map:\n",
    "    for event in states_map[federal_state].events:\n",
    "        c.events.add(event)\n",
    "with open(output_dir + \"/\" + \"alle.ics\", 'w') as file:\n",
    "    file.writelines(str(c))"
   ]
  },
  {
   "cell_type": "code",
   "execution_count": null,
   "id": "d780b7c9-308e-456d-b0b3-36c6f39434c4",
   "metadata": {},
   "outputs": [],
   "source": []
  }
 ],
 "metadata": {
  "kernelspec": {
   "display_name": "Python 3",
   "language": "python",
   "name": "python3"
  },
  "language_info": {
   "codemirror_mode": {
    "name": "ipython",
    "version": 3
   },
   "file_extension": ".py",
   "mimetype": "text/x-python",
   "name": "python",
   "nbconvert_exporter": "python",
   "pygments_lexer": "ipython3",
   "version": "3.8.8"
  }
 },
 "nbformat": 4,
 "nbformat_minor": 5
}
